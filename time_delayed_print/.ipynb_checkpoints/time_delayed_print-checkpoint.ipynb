{
 "cells": [
  {
   "cell_type": "code",
   "execution_count": 1,
   "id": "8a499dc4",
   "metadata": {},
   "outputs": [
    {
     "name": "stdout",
     "output_type": "stream",
     "text": [
      " HELLO \n",
      " welcome to python tricks repo   \n",
      "\n",
      "\n",
      " here you could found some coll python codes\n",
      "\n"
     ]
    }
   ],
   "source": [
    "import time\n",
    "welcome_msg =\" HELLO \\n welcome to python tricks repo   \\n\\n\\n here you could found some coll python codes\\n\\n\"\n",
    "for char in welcome_msg:\n",
    "    print(char, end=\"\", flush=True)  # Print each character without a newline and flush the buffer\n",
    "    time.sleep(0.04)\n",
    "            "
   ]
  },
  {
   "cell_type": "code",
   "execution_count": null,
   "id": "d56ea5c4",
   "metadata": {},
   "outputs": [],
   "source": []
  },
  {
   "cell_type": "code",
   "execution_count": null,
   "id": "e5f4698f",
   "metadata": {},
   "outputs": [],
   "source": []
  }
 ],
 "metadata": {
  "kernelspec": {
   "display_name": "Python 3",
   "language": "python",
   "name": "python3"
  },
  "language_info": {
   "codemirror_mode": {
    "name": "ipython",
    "version": 3
   },
   "file_extension": ".py",
   "mimetype": "text/x-python",
   "name": "python",
   "nbconvert_exporter": "python",
   "pygments_lexer": "ipython3",
   "version": "3.8.8"
  }
 },
 "nbformat": 4,
 "nbformat_minor": 5
}
